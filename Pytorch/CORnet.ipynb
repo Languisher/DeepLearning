{
 "cells": [
  {
   "attachments": {},
   "cell_type": "markdown",
   "metadata": {},
   "source": [
    "## CORnet"
   ]
  },
  {
   "cell_type": "code",
   "execution_count": 6,
   "metadata": {},
   "outputs": [],
   "source": [
    "import os, argparse, time, glob, pickle, subprocess, shlex, io, pprint\n",
    "\n",
    "import numpy as np\n",
    "import pandas\n",
    "import tqdm\n",
    "import fire\n",
    "\n",
    "import torch\n",
    "import torch.nn as nn\n",
    "import torch.utils.model_zoo\n",
    "import torchvision\n",
    "\n",
    "import cornet\n",
    "\n",
    "from PIL import Image\n",
    "Image.warnings.simplefilter('ignore')\n",
    "\n",
    "np.random.seed(0)\n",
    "torch.manual_seed(0)\n",
    "\n",
    "torch.backends.cudnn.benchmark = True"
   ]
  },
  {
   "cell_type": "code",
   "execution_count": 7,
   "metadata": {},
   "outputs": [],
   "source": [
    "normalize = torchvision.transforms.Normalize(mean=[0.485, 0.456, 0.406],\n",
    "                                             std=[0.229, 0.224, 0.225])"
   ]
  },
  {
   "cell_type": "code",
   "execution_count": 13,
   "metadata": {},
   "outputs": [
    {
     "name": "stderr",
     "output_type": "stream",
     "text": [
      "usage: ipykernel_launcher.py [-h] --data_path DATA_PATH [-o OUTPUT_PATH]\n",
      "                             [--model {Z,R,RT,S}] [--times TIMES]\n",
      "                             [--ngpus NGPUS] [-j WORKERS] [--epochs EPOCHS]\n",
      "                             [--batch_size BATCH_SIZE] [--lr LR]\n",
      "                             [--step_size STEP_SIZE] [--momentum MOMENTUM]\n",
      "                             [--weight_decay WEIGHT_DECAY]\n",
      "ipykernel_launcher.py: error: the following arguments are required: --data_path\n"
     ]
    },
    {
     "ename": "SystemExit",
     "evalue": "2",
     "output_type": "error",
     "traceback": [
      "An exception has occurred, use %tb to see the full traceback.\n",
      "\u001b[0;31mSystemExit\u001b[0m\u001b[0;31m:\u001b[0m 2\n"
     ]
    }
   ],
   "source": [
    "parser = argparse.ArgumentParser(description='ImageNet Training')\n",
    "parser.add_argument('--data_path', required=True,\n",
    "                    help='path to ImageNet folder that contains train and val folders')\n",
    "parser.add_argument('-o', '--output_path', default=None,\n",
    "                    help='path for storing ')\n",
    "parser.add_argument('--model', choices=['Z', 'R', 'RT', 'S'], default='Z',\n",
    "                    help='which model to train')\n",
    "parser.add_argument('--times', default=5, type=int,\n",
    "                    help='number of time steps to run the model (only R model)')\n",
    "parser.add_argument('--ngpus', default=0, type=int,\n",
    "                    help='number of GPUs to use; 0 if you want to run on CPU')\n",
    "parser.add_argument('-j', '--workers', default=4, type=int,\n",
    "                    help='number of data loading workers')\n",
    "parser.add_argument('--epochs', default=20, type=int,\n",
    "                    help='number of total epochs to run')\n",
    "parser.add_argument('--batch_size', default=256, type=int,\n",
    "                    help='mini-batch size')\n",
    "parser.add_argument('--lr', '--learning_rate', default=.1, type=float,\n",
    "                    help='initial learning rate')\n",
    "parser.add_argument('--step_size', default=10, type=int,\n",
    "                    help='after how many epochs learning rate should be decreased 10x')\n",
    "parser.add_argument('--momentum', default=.9, type=float, help='momentum')\n",
    "parser.add_argument('--weight_decay', default=1e-4, type=float,\n",
    "                    help='weight decay ')\n",
    "\n",
    "FLAGS, FIRE_FLAGS = parser.parse_known_args()"
   ]
  }
 ],
 "metadata": {
  "kernelspec": {
   "display_name": "torch-venv",
   "language": "python",
   "name": "python3"
  },
  "language_info": {
   "codemirror_mode": {
    "name": "ipython",
    "version": 3
   },
   "file_extension": ".py",
   "mimetype": "text/x-python",
   "name": "python",
   "nbconvert_exporter": "python",
   "pygments_lexer": "ipython3",
   "version": "3.9.16"
  },
  "orig_nbformat": 4
 },
 "nbformat": 4,
 "nbformat_minor": 2
}

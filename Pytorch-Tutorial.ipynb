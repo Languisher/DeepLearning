{
 "cells": [
  {
   "attachments": {},
   "cell_type": "markdown",
   "metadata": {},
   "source": [
    "# Pytorch-Tutorial\n",
    "\n",
    "Author: Brandon Lin\n",
    "\n",
    "Date: 2023.03.19\n",
    "\n",
    "Written in Shanghai Jiao Tong University"
   ]
  },
  {
   "cell_type": "markdown",
   "metadata": {},
   "source": [
    "## Verify Installation\n",
    "- Torch version\n",
    "- Cuda availability"
   ]
  },
  {
   "cell_type": "code",
   "execution_count": 25,
   "metadata": {},
   "outputs": [
    {
     "data": {
      "text/plain": [
       "('1.12.1', '0.13.1')"
      ]
     },
     "execution_count": 25,
     "metadata": {},
     "output_type": "execute_result"
    }
   ],
   "source": [
    "import torch\n",
    "from torch import nn\n",
    "from torch.utils.data import TensorDataset\n",
    "from torch.utils.data import DataLoader\n",
    "import torch.nn.functional as F\n",
    "from torch import optim\n",
    "\n",
    "import torchvision\n",
    "from torchvision import utils\n",
    "from torchvision import transforms\n",
    "\n",
    "import matplotlib.pyplot as plt\n",
    "%matplotlib inline\n",
    "\n",
    "import numpy as np\n",
    "\n",
    "torch.__version__, torchvision.__version__ "
   ]
  },
  {
   "cell_type": "code",
   "execution_count": 12,
   "metadata": {},
   "outputs": [
    {
     "data": {
      "text/plain": [
       "(True, 2, 'GeForce GTX 1080 Ti')"
      ]
     },
     "execution_count": 12,
     "metadata": {},
     "output_type": "execute_result"
    }
   ],
   "source": [
    "torch.cuda.is_available(), torch.cuda.device_count(), torch.cuda.get_device_name(0)"
   ]
  },
  {
   "attachments": {},
   "cell_type": "markdown",
   "metadata": {},
   "source": [
    "## Loading and Processing Data "
   ]
  },
  {
   "attachments": {},
   "cell_type": "markdown",
   "metadata": {},
   "source": [
    "### Download and Store\n",
    "- Path to store data: `path2data = \"./PATH\"`, modify `PATH` on your own\n",
    "- Loading data: `train_data = ..., val_data = ...`, download and store the data from sources\n",
    "    - Usually, the format of `train_data` is like: `train_data[INDEX_OF_PICTURES] = [X_DATA, Y_DATA]`\n",
    "    - Train_data, Validation_data and Test_data are separated.\n",
    "    \n",
    "- Then, seperate the data into `x_train = ..., y_train = ..., x_valid = ..., y_valid = ...`"
   ]
  },
  {
   "cell_type": "code",
   "execution_count": 13,
   "metadata": {},
   "outputs": [
    {
     "name": "stdout",
     "output_type": "stream",
     "text": [
      "torch.Size([60000, 28, 28])\n",
      "torch.Size([60000])\n",
      "torch.Size([10000, 28, 28])\n",
      "torch.Size([10000])\n"
     ]
    }
   ],
   "source": [
    "### ---Example of MNIST--- ###\n",
    "from torchvision import datasets\n",
    "\n",
    "# path to store data and/or load from\n",
    "path2data = \"./data\"\n",
    "\n",
    "# loading training data\n",
    "train_data = datasets.MNIST(path2data, train=True, download=True)\n",
    "\n",
    "# extract data and targets\n",
    "x_train, y_train = train_data.data, train_data.targets\n",
    "\n",
    "# loading validation data\n",
    "val_data = datasets.MNIST(path2data, train=False, download=True)\n",
    "\n",
    "# extract data and targets\n",
    "x_val, y_val = val_data.data, val_data.targets\n",
    "\n",
    "for item in [x_train, y_train, x_val, y_val]:\n",
    "    print(f\"{item.shape}\")"
   ]
  },
  {
   "attachments": {},
   "cell_type": "markdown",
   "metadata": {},
   "source": [
    "### Display\n",
    "\n",
    "- We frequently use `matplotlib` to display the image.\n",
    "- Requirements for input data: In pytorch, expect input data to be in the format $B \\times C \\times H \\times W$, where:\n",
    "    - $B$: Number of images in the batch\n",
    "    - $C$: Number of color channels in each image (e.g., 3 for RGB images)\n",
    "    - $H$: Height of each image\n",
    "    - $W$: Width of each image\n",
    "\n",
    "- If the shape don't match, you can use the `unsqueeze(PLACE_INDEX)` method, for example `unsqueeze(1)` is adding a dimension at $C$ place.\n",
    "\n",
    "- Then, we use `utils.make_grid(x_train[NUM], nrow=NUM, padding=NUM)` (formally imported from `torchvision`) to transform into a Tensor containing grid of images. Fill in the first `NUM` with the number of pictures you want to display, and the second `NUM` the number of pictures in each row of the output.\n",
    "\n",
    "- Finally we shall use a function to transform the tensor into numpy data, so `matplotlib` could display them. Notice that `plt.imshow` wants input size as $H\\times W\\times C$, so we need to transform it, more likely: \n",
    "\n",
    "```python\n",
    "img = utils.make_grid(x_train[:24], nrow=8, padding=2)\n",
    "npimg = img.numpy()\n",
    "npimg_tr = np.transpose(npimg, (1, 2, 0)) # Turning BCHW -> HWC\n",
    "plt.imshow(npimg_tr)\n",
    "```"
   ]
  },
  {
   "cell_type": "code",
   "execution_count": 14,
   "metadata": {},
   "outputs": [
    {
     "data": {
      "image/png": "[encoded data removed]",
      "text/plain": [
       "<Figure size 640x480 with 1 Axes>"
      ]
     },
     "metadata": {},
     "output_type": "display_data"
    }
   ],
   "source": [
    "### ---Example of MNIST--- ###\n",
    "from torchvision import utils\n",
    "\n",
    "# First, add a dimension to tensor to become B*C*H*W\n",
    "if len(x_train.shape)==3:\n",
    "    x_train=x_train.unsqueeze(1)\n",
    "\n",
    "if len(x_val.shape)==3:\n",
    "    x_val = x_val.unsqueeze(1)\n",
    "\n",
    "# make a grid of 16 images, 8 images per row\n",
    "x_grid = utils.make_grid(x_train[:16], nrow=8, padding=2)\n",
    "\n",
    "# helper function to display images\n",
    "def show(img):\n",
    "    # convert tensor to numpy array\n",
    "    npimg = img.numpy()\n",
    "    \n",
    "    # Convert to H*W*C shape\n",
    "    npimg_tr = np.transpose(npimg, (1,2,0))\n",
    "    \n",
    "    # display images\n",
    "    plt.imshow(npimg_tr, interpolation='nearest')\n",
    "\n",
    "# call helper function\n",
    "show(x_grid)"
   ]
  },
  {
   "attachments": {},
   "cell_type": "markdown",
   "metadata": {},
   "source": [
    "### Process or Transformation\n",
    "- Transformation data are recorded in a single variable, using `transformations.Compose`\n",
    "- To trace a single picture's difference after certain transformation, notice that:\n",
    "    - `transformation` accepts an image.\n",
    "    - We usually end up with `ToTensor()` in order to deal with this picture. Therefore, after the transformation, the data is a `tensor`, therefore it is necessarily for us to `numpy` it, don't forget to `squeeze` it in the end."
   ]
  },
  {
   "cell_type": "code",
   "execution_count": 15,
   "metadata": {},
   "outputs": [],
   "source": [
    "from torchvision import transforms\n",
    "\n",
    "# define transformations\n",
    "data_transform = transforms.Compose([transforms.RandomHorizontalFlip(p=1),\n",
    "                                    transforms.RandomVerticalFlip(p=1),\n",
    "                                    transforms.ToTensor(),\n",
    "                                    ])"
   ]
  },
  {
   "cell_type": "code",
   "execution_count": 16,
   "metadata": {},
   "outputs": [
    {
     "data": {
      "text/plain": [
       "Text(0.5, 1.0, 'transformed')"
      ]
     },
     "execution_count": 16,
     "metadata": {},
     "output_type": "execute_result"
    },
    {
     "data": {
      "image/png": "[encoded data removed]",
      "text/plain": [
       "<Figure size 640x480 with 2 Axes>"
      ]
     },
     "metadata": {},
     "output_type": "display_data"
    }
   ],
   "source": [
    "### ---Example for demonstrating the transformed effects--- ###\n",
    "img = train_data[0][0]\n",
    "img_trans = data_transform(img).numpy().squeeze() # Squeeze is necessarily\n",
    "\n",
    "plt.subplot(1,2,1)\n",
    "plt.imshow(img,cmap=\"gray\")\n",
    "plt.title(\"original\")\n",
    "plt.subplot(1,2,2)\n",
    "plt.imshow(img_trans,cmap=\"gray\");\n",
    "plt.title(\"transformed\")"
   ]
  },
  {
   "attachments": {},
   "cell_type": "markdown",
   "metadata": {},
   "source": [
    "## Dataset, Dataloader\n",
    "- We use `TensorDataset` to combine both `x` and `y` (both tensors), or input and outputs.\n",
    "- We use `Dataloader` to do iterations over `dataset`s we created."
   ]
  },
  {
   "cell_type": "code",
   "execution_count": 17,
   "metadata": {},
   "outputs": [
    {
     "name": "stdout",
     "output_type": "stream",
     "text": [
      "torch.Size([1, 28, 28]) 5\n"
     ]
    }
   ],
   "source": [
    "### ---Example: Tensors -> TensorDataset--- ###\n",
    "from torch.utils.data import TensorDataset\n",
    "\n",
    "# wrap tensors into a dataset\n",
    "train_ds = TensorDataset(x_train, y_train)\n",
    "val_ds = TensorDataset(x_val, y_val)\n",
    "\n",
    "for x, y in train_ds:\n",
    "    print(x.shape,y.item()) # Display what is y\n",
    "    break"
   ]
  },
  {
   "cell_type": "code",
   "execution_count": 18,
   "metadata": {},
   "outputs": [],
   "source": [
    "### ---Example: Iteration over Dataset--- ###\n",
    "from torch.utils.data import DataLoader\n",
    "\n",
    "# create a data loader from dataset\n",
    "train_dl = DataLoader(train_ds, batch_size=8)\n",
    "val_dl = DataLoader(val_ds, batch_size=8)\n",
    "\n",
    "# iterate over batches\n",
    "for xb, yb in train_dl:\n",
    "    ### Train them and add things below! ###\n",
    "    pass"
   ]
  },
  {
   "attachments": {},
   "cell_type": "markdown",
   "metadata": {},
   "source": [
    "## Define models\n",
    "- Ways to define models:\n",
    "    - Using `nn.Sequential`\n",
    "    - Using `nn.Module`\n",
    "\n",
    "- You would probably perfer using GPU to run your models. Therefore we have: `device = torch.device(\"cuda:0\"); model.to(device)`\n",
    "\n",
    "- Sometimes, models are too big with many layers. `Torchsummary` is a fascinating module to give you a summary of the model. Remember to `!pip install torchsummary` if you don't have one, and `from torchsummary import summary` from the very begining.\n",
    "    - Usage: `summary(MODEL, input_size=(SIZE))`"
   ]
  },
  {
   "cell_type": "code",
   "execution_count": 19,
   "metadata": {},
   "outputs": [
    {
     "name": "stdout",
     "output_type": "stream",
     "text": [
      "Sequential(\n",
      "  (0): Linear(in_features=4, out_features=5, bias=True)\n",
      "  (1): ReLU()\n",
      "  (2): Linear(in_features=5, out_features=1, bias=True)\n",
      ")\n"
     ]
    }
   ],
   "source": [
    "### ---Example: nn.Sequential--- ###\n",
    "from torch import nn\n",
    "\n",
    "# define a two-layer model\n",
    "model = nn.Sequential(\n",
    "                        nn.Linear(4, 5),\n",
    "                        nn.ReLU(), # relu is not shown in the figure.\n",
    "                        nn.Linear(5, 1),)\n",
    "print(model)"
   ]
  },
  {
   "cell_type": "code",
   "execution_count": 20,
   "metadata": {},
   "outputs": [
    {
     "name": "stdout",
     "output_type": "stream",
     "text": [
      "cuda:0\n",
      "Net(\n",
      "  (conv1): Conv2d(1, 8, kernel_size=(5, 5), stride=(1, 1))\n",
      "  (conv2): Conv2d(8, 16, kernel_size=(5, 5), stride=(1, 1))\n",
      "  (fc1): Linear(in_features=256, out_features=100, bias=True)\n",
      "  (fc2): Linear(in_features=100, out_features=10, bias=True)\n",
      ")\n"
     ]
    }
   ],
   "source": [
    "### ---Example: nn.Module--- ###\n",
    "import torch.nn.functional as F\n",
    "class Net(nn.Module):\n",
    "    def __init__(self):\n",
    "        super(Net, self).__init__()\n",
    "        self.conv1 = nn.Conv2d(1, 8, 5, 1)\n",
    "        self.conv2 = nn.Conv2d(8, 16, 5, 1)\n",
    "        self.fc1 = nn.Linear(4*4*16, 100)\n",
    "        self.fc2 = nn.Linear(100, 10)\n",
    "\n",
    "    def forward(self, x):\n",
    "        x = F.relu(self.conv1(x))\n",
    "        x = F.max_pool2d(x, 2, 2)\n",
    "        x = F.relu(self.conv2(x))\n",
    "        x = F.max_pool2d(x, 2, 2)\n",
    "        x = x.view(-1, 4*4*16)\n",
    "        x = F.relu(self.fc1(x))\n",
    "        x = self.fc2(x)\n",
    "        return F.log_softmax(x, dim=1)\n",
    "\n",
    "model = Net()\n",
    "device = torch.device(\"cuda:0\")\n",
    "model.to(device)\n",
    "\n",
    "print(next(model.parameters()).device)\n",
    "print(model)"
   ]
  },
  {
   "cell_type": "code",
   "execution_count": 21,
   "metadata": {},
   "outputs": [
    {
     "name": "stdout",
     "output_type": "stream",
     "text": [
      "----------------------------------------------------------------\n",
      "        Layer (type)               Output Shape         Param #\n",
      "================================================================\n",
      "            Conv2d-1            [-1, 8, 24, 24]             208\n",
      "            Conv2d-2             [-1, 16, 8, 8]           3,216\n",
      "            Linear-3                  [-1, 100]          25,700\n",
      "            Linear-4                   [-1, 10]           1,010\n",
      "================================================================\n",
      "Total params: 30,134\n",
      "Trainable params: 30,134\n",
      "Non-trainable params: 0\n",
      "----------------------------------------------------------------\n",
      "Input size (MB): 0.00\n",
      "Forward/backward pass size (MB): 0.04\n",
      "Params size (MB): 0.11\n",
      "Estimated Total Size (MB): 0.16\n",
      "----------------------------------------------------------------\n"
     ]
    }
   ],
   "source": [
    "### ---Example: Print a summary of the model--- ###\n",
    "from torchsummary import summary\n",
    "\n",
    "summary(model, input_size=(1, 28, 28))"
   ]
  },
  {
   "attachments": {},
   "cell_type": "markdown",
   "metadata": {},
   "source": [
    "## Loss function and Optimization\n",
    "### Loss function\n",
    "- Definition of the loss function: `loss_func = nn.NLLLoss(reduction=\"sum\")`\n",
    "- We calculate the loss as `loss = loss_func(output, real)`\n",
    "- `metrics_batch(target, output)` calculates **the number of correct predictions in a batch** by comparing the predicted class (obtained using argmax) with the target class. It returns the number of correct predictions.\n",
    "    - `output` is a prediction of the picture in each class. We need to find the highest possibility using `argmax(dim=1, keepdim=True)`.\n",
    "    - Probably, you need to reshape the tensors, so `view_as` is used here.\n",
    "    \n",
    "- `loss_batch(def loss_batch(loss_func, xb, yb, yb_h, opt=None)` computes **the loss and performance metric** (e.g., number of correct predictions) for a given batch of data. \n",
    "    - `yb_h`: The model's output tensor (predictions)\n",
    "    \n",
    "- `loss_epoch` computes **the average loss and performance metric** over an entire epoch (one pass through the dataset)\n",
    "\n",
    "### Optimization\n",
    "- Optimization should be done right after the loss has been calculated. So I add this pasrt in the `loss_batch` function, so this will function for each batch:\n",
    "    - Calculate the gradient\n",
    "    - March! (This is upgrade the parameters)\n",
    "    - Reset the gradient to 0, or else it will not behave as we expected for the next batch.\n",
    "    \n",
    "- Definition of the optimizer: `opt = optim.Adam(model.parameters(), lr=1e-4)`, note that `from torch import optim`\n",
    "- Update model parameters: `opt.step()`\n",
    "- Set gradients to zero: `opt.zero_grad()`"
   ]
  },
  {
   "cell_type": "code",
   "execution_count": 31,
   "metadata": {},
   "outputs": [],
   "source": [
    "### ---Example: Loss functions, used in each batch and each epoch--- ###\n",
    "def metrics_batch(target, output):\n",
    "    # obtain output class\n",
    "    pred = output.argmax(dim=1, keepdim=True)\n",
    "    \n",
    "    # compare output class with target class\n",
    "    corrects = pred.eq(target.view_as(pred)).sum().item()\n",
    "    return corrects\n",
    "\n",
    "def loss_batch(loss_func, xb, yb, yb_h, opt=None):\n",
    "    \n",
    "    # obtain loss\n",
    "    loss = loss_func(yb_h, yb)\n",
    "    \n",
    "    # obtain performance metric\n",
    "    metric_b = metrics_batch(yb, yb_h)\n",
    "    \n",
    "    if opt is not None:\n",
    "        loss.backward()\n",
    "        opt.step()\n",
    "        opt.zero_grad()\n",
    "\n",
    "    return loss.item(), metric_b\n",
    "\n",
    "\n",
    "def loss_epoch(model,loss_func,dataset_dl, opt=None):\n",
    "    loss = 0.0\n",
    "    metric = 0.0\n",
    "    len_data = len(dataset_dl.dataset)\n",
    "    for xb, yb in dataset_dl:\n",
    "        xb = xb.type(torch.float).to(device)\n",
    "        yb = yb.to(device)\n",
    "        \n",
    "        # obtain model output\n",
    "        yb_h = model(xb)\n",
    "\n",
    "        loss_b, metric_b = loss_batch(loss_func, xb, yb,yb_h, opt)\n",
    "        loss += loss_b\n",
    "        if metric_b is not None:\n",
    "            metric += metric_b\n",
    "            \n",
    "    loss /= len_data\n",
    "    metric /= len_data\n",
    "    return loss, metric"
   ]
  },
  {
   "attachments": {},
   "cell_type": "markdown",
   "metadata": {},
   "source": [
    "## Train\n",
    "- For each training process, we need to divide the training into several epochs, with each epoch doing same things, mainly:\n",
    "    - Train the model (using `model.train()`)\n",
    "    - Calculate the loss (introduced above)\n",
    "    - Optimizing during the process (introduced above)\n",
    "    - The model steps into evaluation mode, that is a hint for the model to stop updating its parameters, and being applied to test datas.\n",
    "    - Output the result.\n",
    "\n",
    "- The function goes like the example below."
   ]
  },
  {
   "cell_type": "code",
   "execution_count": 34,
   "metadata": {},
   "outputs": [],
   "source": [
    "### ---Example: Training---- ###\n",
    "def train_val(epochs, model, loss_func, opt, train_dl, val_dl):\n",
    "    for epoch in range(epochs):\n",
    "        model.train()\n",
    "        train_loss, train_metric = loss_epoch(model,loss_func,train_dl, opt)\n",
    "                    \n",
    "        model.eval()\n",
    "        with torch.no_grad():\n",
    "            val_loss, val_metric = loss_epoch(model,loss_func,val_dl)\n",
    "        \n",
    "        accuracy = 100 * val_metric\n",
    "\n",
    "        print(\"epoch: %d, train loss: %.6f, val loss: %.6f, accuracy: %.2f\" %(epoch, train_loss,val_loss, accuracy))"
   ]
  },
  {
   "cell_type": "code",
   "execution_count": 32,
   "metadata": {},
   "outputs": [
    {
     "name": "stdout",
     "output_type": "stream",
     "text": [
      "epoch: 0, train loss: 0.020758, val loss: 0.061965, accuracy: 98.34\n",
      "epoch: 1, train loss: 0.015394, val loss: 0.053161, accuracy: 98.68\n",
      "epoch: 2, train loss: 0.012872, val loss: 0.060444, accuracy: 98.47\n",
      "epoch: 3, train loss: 0.011336, val loss: 0.058657, accuracy: 98.61\n",
      "epoch: 4, train loss: 0.009400, val loss: 0.054817, accuracy: 98.69\n"
     ]
    }
   ],
   "source": [
    "num_epochs=5\n",
    "loss_func = nn.NLLLoss(reduction=\"sum\")\n",
    "opt = optim.Adam(model.parameters(), lr=1e-4)\n",
    "\n",
    "train_val(num_epochs, model, loss_func, opt, train_dl, val_dl)"
   ]
  },
  {
   "attachments": {},
   "cell_type": "markdown",
   "metadata": {},
   "source": [
    "## Verification"
   ]
  },
  {
   "cell_type": "code",
   "execution_count": 47,
   "metadata": {},
   "outputs": [
    {
     "name": "stdout",
     "output_type": "stream",
     "text": [
      "torch.Size([1, 28, 28])\n",
      "4 4\n"
     ]
    },
    {
     "data": {
      "image/png": "[encoded data removed]",
      "text/plain": [
       "<Figure size 640x480 with 1 Axes>"
      ]
     },
     "metadata": {},
     "output_type": "display_data"
    }
   ],
   "source": [
    "# x is a data point with C*H*W shape\n",
    "n = 901\n",
    "x = x_val[n]\n",
    "y = y_val[n]\n",
    "print(x.shape)\n",
    "plt.imshow(x.numpy()[0],cmap=\"gray\")\n",
    "\n",
    "# we use unsqueeze to expand dimensions to 1*C*H*W\n",
    "x= x.unsqueeze(0)\n",
    "\n",
    "# convert to torch.float32\n",
    "x=x.type(torch.float)\n",
    "\n",
    "# move to cuda device\n",
    "x=x.to(device)\n",
    "\n",
    "# get model output\n",
    "output = model(x)\n",
    "\n",
    "# get predicted class\n",
    "pred = output.argmax(dim=1, keepdim=True)\n",
    "print (pred.item(),y.item())"
   ]
  }
 ],
 "metadata": {
  "kernelspec": {
   "display_name": "torch-venv",
   "language": "python",
   "name": "python3"
  },
  "language_info": {
   "codemirror_mode": {
    "name": "ipython",
    "version": 3
   },
   "file_extension": ".py",
   "mimetype": "text/x-python",
   "name": "python",
   "nbconvert_exporter": "python",
   "pygments_lexer": "ipython3",
   "version": "3.9.16"
  },
  "orig_nbformat": 4
 },
 "nbformat": 4,
 "nbformat_minor": 2
}
